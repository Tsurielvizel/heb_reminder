{
  "cells": [
    {
      "cell_type": "markdown",
      "metadata": {
        "id": "view-in-github",
        "colab_type": "text"
      },
      "source": [
        "<a href=\"https://colab.research.google.com/github/Tsurielvizel/heb_reminder/blob/main/heb_reminder_ics_maker.ipynb\" target=\"_parent\"><img src=\"https://colab.research.google.com/assets/colab-badge.svg\" alt=\"Open In Colab\"/></a>"
      ]
    },
    {
      "cell_type": "code",
      "source": [
        "!pip install convertdate\n",
        "!pip install ics\n"
      ],
      "metadata": {
        "colab": {
          "base_uri": "https://localhost:8080/"
        },
        "id": "jNTJR4rGn3or",
        "outputId": "d61370fd-7d8b-4740-c7aa-45dccf92eee3"
      },
      "execution_count": null,
      "outputs": [
        {
          "output_type": "stream",
          "name": "stdout",
          "text": [
            "Collecting convertdate\n",
            "  Downloading convertdate-2.4.0-py3-none-any.whl.metadata (8.3 kB)\n",
            "Collecting pymeeus<=1,>=0.3.13 (from convertdate)\n",
            "  Downloading PyMeeus-0.5.12.tar.gz (5.8 MB)\n",
            "\u001b[2K     \u001b[90m━━━━━━━━━━━━━━━━━━━━━━━━━━━━━━━━━━━━━━━━\u001b[0m \u001b[32m5.8/5.8 MB\u001b[0m \u001b[31m46.6 MB/s\u001b[0m eta \u001b[36m0:00:00\u001b[0m\n",
            "\u001b[?25h  Preparing metadata (setup.py) ... \u001b[?25l\u001b[?25hdone\n",
            "Downloading convertdate-2.4.0-py3-none-any.whl (47 kB)\n",
            "\u001b[2K   \u001b[90m━━━━━━━━━━━━━━━━━━━━━━━━━━━━━━━━━━━━━━━━\u001b[0m \u001b[32m47.9/47.9 kB\u001b[0m \u001b[31m2.3 MB/s\u001b[0m eta \u001b[36m0:00:00\u001b[0m\n",
            "\u001b[?25hBuilding wheels for collected packages: pymeeus\n",
            "  Building wheel for pymeeus (setup.py) ... \u001b[?25l\u001b[?25hdone\n",
            "  Created wheel for pymeeus: filename=PyMeeus-0.5.12-py3-none-any.whl size=732003 sha256=55aee53c34afa7ad22a42ecf288f7d10c5d73322bbb7b1491933e90d6b06aafe\n",
            "  Stored in directory: /root/.cache/pip/wheels/d6/67/78/aa2e8d108639dd23a5e9e72a4fc88bb44f5541894382712f48\n",
            "Successfully built pymeeus\n",
            "Installing collected packages: pymeeus, convertdate\n",
            "Successfully installed convertdate-2.4.0 pymeeus-0.5.12\n",
            "Collecting ics\n",
            "  Downloading ics-0.7.2-py2.py3-none-any.whl.metadata (4.2 kB)\n",
            "Requirement already satisfied: python-dateutil in /usr/local/lib/python3.10/dist-packages (from ics) (2.8.2)\n",
            "Collecting arrow>=0.11 (from ics)\n",
            "  Downloading arrow-1.3.0-py3-none-any.whl.metadata (7.5 kB)\n",
            "Requirement already satisfied: six>1.5 in /usr/local/lib/python3.10/dist-packages (from ics) (1.17.0)\n",
            "Collecting tatsu>4.2 (from ics)\n",
            "  Downloading TatSu-5.8.3-py2.py3-none-any.whl.metadata (13 kB)\n",
            "Requirement already satisfied: attrs>=19.1.0 in /usr/local/lib/python3.10/dist-packages (from ics) (24.3.0)\n",
            "Collecting types-python-dateutil>=2.8.10 (from arrow>=0.11->ics)\n",
            "  Downloading types_python_dateutil-2.9.0.20241206-py3-none-any.whl.metadata (2.1 kB)\n",
            "Downloading ics-0.7.2-py2.py3-none-any.whl (40 kB)\n",
            "\u001b[2K   \u001b[90m━━━━━━━━━━━━━━━━━━━━━━━━━━━━━━━━━━━━━━━━\u001b[0m \u001b[32m40.1/40.1 kB\u001b[0m \u001b[31m2.6 MB/s\u001b[0m eta \u001b[36m0:00:00\u001b[0m\n",
            "\u001b[?25hDownloading arrow-1.3.0-py3-none-any.whl (66 kB)\n",
            "\u001b[2K   \u001b[90m━━━━━━━━━━━━━━━━━━━━━━━━━━━━━━━━━━━━━━━━\u001b[0m \u001b[32m66.4/66.4 kB\u001b[0m \u001b[31m4.8 MB/s\u001b[0m eta \u001b[36m0:00:00\u001b[0m\n",
            "\u001b[?25hDownloading TatSu-5.8.3-py2.py3-none-any.whl (101 kB)\n",
            "\u001b[2K   \u001b[90m━━━━━━━━━━━━━━━━━━━━━━━━━━━━━━━━━━━━━━━━\u001b[0m \u001b[32m101.5/101.5 kB\u001b[0m \u001b[31m8.2 MB/s\u001b[0m eta \u001b[36m0:00:00\u001b[0m\n",
            "\u001b[?25hDownloading types_python_dateutil-2.9.0.20241206-py3-none-any.whl (14 kB)\n",
            "Installing collected packages: types-python-dateutil, tatsu, arrow, ics\n",
            "Successfully installed arrow-1.3.0 ics-0.7.2 tatsu-5.8.3 types-python-dateutil-2.9.0.20241206\n"
          ]
        }
      ]
    },
    {
      "cell_type": "code",
      "execution_count": null,
      "metadata": {
        "id": "piVmKFYgnZh8"
      },
      "outputs": [],
      "source": [
        "import re\n",
        "from convertdate import hebrew, gregorian\n",
        "import datetime\n",
        "import ics\n",
        "\n",
        "\n"
      ]
    },
    {
      "cell_type": "code",
      "execution_count": null,
      "metadata": {
        "id": "hc_6klVBnZh-"
      },
      "outputs": [],
      "source": [
        "'''\n",
        "this is a tishrei to a elul in Nisan startiing years\n",
        "5784, 7, 1 tishrei\n",
        "5784, 8, 1\n",
        "5784, 9, 1\n",
        "5784, 10, 1\n",
        "5784, 11, 1\n",
        "5784, 12, 1 adar a (or regular adar in regular year)\n",
        "5784, 13, 1 adar b (if exist)\n",
        "5784, 1, 1 Nisan\n",
        "5784, 2, 1\n",
        "5784, 3, 1\n",
        "5784, 4, 1\n",
        "5784, 5, 1\n",
        "5784, 6, 1 elul\n",
        "\n",
        "in a regular year\n",
        "5785, 7, 1 tishrei\n",
        "5785, 8, 1\n",
        "5785, 9, 1\n",
        "5785, 10, 1\n",
        "5785, 11, 1\n",
        "5785, 12, 1 adar\n",
        "5785, 1, 1 Nisan\n",
        "5785, 2, 1\n",
        "5785, 3, 1\n",
        "5785, 4, 1\n",
        "5785, 5, 1\n",
        "5785, 6, 1 elul\n",
        "'''\n",
        "def to_ecclestical(year, month, day): # to check if working good because i assume the leap year as start from tishrei year\n",
        "    \"\"\"Convert a date in the civil calendar (year starts in Tishrei) to\n",
        "    the ecclestical calendar (year starts in Nisan).\"\"\"\n",
        "    if(hebrew.year_months(year)==12):\n",
        "        if month <= 6:\n",
        "            month = month+6\n",
        "        else:\n",
        "            month = month-6\n",
        "    else:\n",
        "        if month <= 7:\n",
        "            month = month+6\n",
        "        else:\n",
        "            month = month-6\n",
        "    return year, month, day"
      ]
    },
    {
      "cell_type": "code",
      "execution_count": null,
      "metadata": {
        "id": "Nph1VN-NnZh_"
      },
      "outputs": [],
      "source": [
        "\n",
        "# רשימת חודשים עבריים\n",
        "'''\n",
        "HEBREW_MONTHS = {\n",
        "    \"תשרי\": \"Tishrei\", \"חשוון\": \"Cheshvan\", \"מרחשוון\": \"Cheshvan\",\n",
        "    \"כסלו\": \"Kislev\", \"טבת\": \"Tevet\", \"שבט\": \"Shevat\",\n",
        "    \"אדר\": \"Adar\", \"אדר א\": \"Adar I\", \"אדר ב\": \"Adar II\",\n",
        "    \"ניסן\": \"Nisan\", \"אייר\": \"Iyar\", \"סיוון\": \"Sivan\",\n",
        "    \"תמוז\": \"Tamuz\", \"אב\": \"Av\", \"אלול\": \"Elul\"\n",
        "}'''\n",
        "\n",
        "HEBREW_MONTHS = {\n",
        "    \"תשרי\": 7,\"תישרי\": 7,\n",
        "    \"חשוון\": 8,\"חשון\": 8, \"מרחשוון\": 8,\"מרחשון\": 8,\n",
        "    \"כסלו\": 9, \"כיסלו\": 9,\n",
        "      \"טבת\": 10, \"שבט\": 11,\n",
        "    \"אדר\": 12, \"אדר א\": 12, \"אדר ב\": 13,\n",
        "    \"ניסן\": 1, \"אייר\": 2, \"סיוון\": 3,\"סיון\": 3,\n",
        "    \"תמוז\": 4, \"אב\": 5, \"אלול\": 6\n",
        "}\n",
        "\n",
        "\n",
        "\n",
        "hebrew_days = {\"א\": 1, \"ב\": 2, \"ג\": 3, \"ד\": 4, \"ה\": 5, \"ו\": 6, \"ז\": 7, \"ח\": 8, \"ט\": 9,\n",
        "                \"י\": 10, \"יא\": 11, \"יב\": 12, \"יג\": 13, \"יד\": 14, \"טו\": 15, \"טז\": 16,\n",
        "                \"יז\": 17, \"יח\": 18, \"יט\": 19, \"כ\": 20, \"כא\": 21, \"כב\": 22, \"כג\": 23,\n",
        "                \"כד\": 24, \"כה\": 25, \"כו\": 26, \"כז\": 27, \"כח\": 28, \"כט\": 29, \"ל\": 30}\n",
        "# גימטריא\n",
        "\n",
        "HEBREW_GEMATRIA = {\n",
        "    'א': 1, 'ב': 2, 'ג': 3, 'ד': 4, 'ה': 5, 'ו': 6, 'ז': 7, 'ח': 8, 'ט': 9,\n",
        "    'י': 10, 'כ': 20, 'ל': 30, 'מ': 40, 'נ': 50, 'ס': 60, 'ע': 70, 'פ': 80,\n",
        "    'צ': 90, 'ק': 100, 'ר': 200, 'ש': 300, 'ת': 400\n",
        "}\n",
        "\n",
        "# פונקציה לניקוי התאריך העברי (עם גרשיים או עם מילים)\n",
        "def clean_hebrew_date(hebrew_date):\n",
        "    \"\"\"\n",
        "    מנקה את התאריך העברי ומחזיר אותו בפורמט אחיד (כגון '18 Sivan 5784').\n",
        "\n",
        "    Args:\n",
        "        hebrew_date (str): תאריך עברי לדוגמה \"י\"ח סיוון תשפ\"ד\" או \"יח סיוון תשפ\"ד\" או \"ג אדר ב תשפ\\\"ה\".\n",
        "\n",
        "    Returns:\n",
        "        str: תאריך עברי נקי ומנורמל בפורמט '18 Month Year'.\n",
        "        כלומר ה סיוון תשפה מוחזר כ\n",
        "          '5 Sivan 5785'\n",
        "\n",
        "    Raises:\n",
        "        ValueError: אם הפורמט שגוי או אם החודש אינו מוכר.\n",
        "    \"\"\"\n",
        "\n",
        "    # פיצול הקלט לשנה חודש ויום\n",
        "\n",
        "    # פיצול התאריך לשלושה או ארבעה חלקים\n",
        "    parts = hebrew_date.split()\n",
        "    if len(parts) != 3 and len(parts) != 4:\n",
        "        raise ValueError(f\"תאריך לא תקני: {hebrew_date}\")\n",
        "\n",
        "    day, month_name, year = parts[:3]  # אם יש 3 חלקים, הפונקציה תקבל את שלושת החלקים הראשונים\n",
        "\n",
        "    # אם יש 4 חלקים, , תיקון השנה והוספת חלק נוסף לחודש\n",
        "    if len(parts) == 4:\n",
        "        month_name = f\"{parts[1]} {parts[2]}\"  # אם מדובר באדר א' או אדר ב'\n",
        "        year = parts[3]\n",
        "\n",
        "\n",
        "# טיפול בכל חלק של הקלט בנפרד\n",
        "\n",
        "    # טיפול ביום\n",
        "    day = re.sub(r\"['״]\", \"\", day)  # הסרת גרשיים וגרשיים כפולים\n",
        "    if day.isdigit():  # אם היום כבר מספר\n",
        "        day = int(day)\n",
        "    else:  # המרת מילים (כמו יח) למספרים\n",
        "        if day in hebrew_days:\n",
        "            day = hebrew_days[day]\n",
        "        else:\n",
        "            raise ValueError(f\"היום לא תקני: {day}\")\n",
        "\n",
        "    # טיפול בחודש\n",
        "    month_name = re.sub(r\"['״]\", \"\", month_name)  # הסרת גרשיים\n",
        "    if month_name not in HEBREW_MONTHS:\n",
        "        raise ValueError(f\"חודש לא תקני: {month_name}\")\n",
        "    month = HEBREW_MONTHS[month_name]\n",
        "\n",
        "    #טיפול בשנה\n",
        "    # ניקוי גרשיים מהשנה\n",
        "    year = re.sub(r\"['״]\", \"\", year)\n",
        "    if not (year.startswith(\"תש\") or year.startswith(\"תת\")):\n",
        "        raise ValueError(f\"שנה לא תקנית: {year}\")\n",
        "    else:\n",
        "        # חישוב הגימטריה של השנה\n",
        "    # חישוב הגימטריה עבור שאר האותיות\n",
        "        year_value = 5000\n",
        "        for char in year:\n",
        "            if char in HEBREW_GEMATRIA:\n",
        "                year_value += HEBREW_GEMATRIA[char]\n",
        "\n",
        "\n",
        "\n",
        "    # החזרת התאריך בפורמט שנה שמתחיל בניסן (eccelntar year)\n",
        "    return year_value, month, day\n",
        "\n"
      ]
    },
    {
      "cell_type": "code",
      "execution_count": null,
      "metadata": {
        "id": "CVBJcnuWnZh_"
      },
      "outputs": [],
      "source": [
        "# פונקציה להמיר תאריך עברי לתאריכים לועזיים\n",
        "def hebrew_to_gregorian_dates(start_hebrew_date, years=1):\n",
        "    \"\"\"\n",
        "    מקבלת תאריך עברי ומחשבת את כל התאריכים הלועזיים עבור מספר שנים.\n",
        "\n",
        "    Args:\n",
        "        start_hebrew_date (str):\n",
        "          תאריך עברי בפורמט\n",
        "          יח סיוון תשפד\n",
        "\n",
        "        years (int): מספר השנים להמיר.\n",
        "\n",
        "    Returns:\n",
        "        list: רשימה של תאריכים לועזיים בפורמט 'YYYY-MM-DD'.\n",
        "    \"\"\"\n",
        "    year, month, day  = clean_hebrew_date(start_hebrew_date)\n",
        "\n",
        "    # המרת התאריך העברי לגלוגריאני\n",
        "    #  ויצירת מערך של התאריכים הלועזיים\n",
        "    gregorian_dates = []\n",
        "    for year_offset in range(years + 1):\n",
        "        # המרת כל שנה\n",
        "            gregorian_date = hebrew.to_gregorian(year + year_offset, month, day)\n",
        "            gregorian_dates.append(str(gregorian_date))\n",
        "    print(f'gregorian_dates is {gregorian_dates}')\n",
        "    return gregorian_dates\n",
        "\n"
      ]
    },
    {
      "cell_type": "code",
      "execution_count": null,
      "metadata": {
        "id": "mjmsNXM5nZiA"
      },
      "outputs": [],
      "source": []
    },
    {
      "cell_type": "code",
      "execution_count": null,
      "metadata": {
        "id": "-V-qNRvCnZiA"
      },
      "outputs": [],
      "source": [
        "import ics\n",
        "import datetime\n",
        "\n",
        "def tuple_date_to_string(date_tuple):\n",
        "    # המרת המיתר לפורמט טופל (למשל \"(2025, 6, 14)\" ל-(2025, 6, 14))\n",
        "    date_tuple = eval(date_tuple)  # המרה מיתרים לטופל\n",
        "\n",
        "    # הפיכת tuple לפורמט YYYY-MM-DD\n",
        "    year = int(date_tuple[0])  # המרת שנה למספר שלם\n",
        "    month = int(date_tuple[1])  # המרת חודש למספר שלם\n",
        "    day = int(date_tuple[2])  # המרת יום למספר שלם\n",
        "\n",
        "    data_str = f\"{year}-{month:02d}-{day:02d}\"  # הפיכת tuple לפורמט YYYY-MM-DD\n",
        "    return data_str\n",
        "\n",
        "def date_format_create(gregorian_dates, time):\n",
        "    \"\"\"\n",
        "    Convert a list of Gregorian date tuples to a formatted list of datetime strings.\n",
        "\n",
        "    Args:\n",
        "        gregorian_dates: A list of strings, each containing a tuple like '(YYYY, M, D)'.\n",
        "        time: A string representing the time in \"HH:MM\" format.\n",
        "\n",
        "    Returns:\n",
        "        A list of strings formatted as \"YYYY-MM-DD HH:MM\".\n",
        "    \"\"\"\n",
        "    formatted_dates = []\n",
        "\n",
        "    for date_str in gregorian_dates:\n",
        "        date_str = tuple_date_to_string(date_str)  # המרת כל מיתר לטופל ואז לפורמט\n",
        "        formatted_dates.append(f\"{date_str} {time}\")\n",
        "\n",
        "    return formatted_dates\n",
        "\n",
        "\n",
        "\n",
        "\n",
        "\n",
        "# פונקציה ליצור קובץ ICS עם התאריכים הלועזיים\n",
        "def create_ics_file(dates, summary='תזכורת', time='10:00'):\n",
        "    \"\"\"\n",
        "    Creates an ICS file for multiple events.\n",
        "\n",
        "    Args:\n",
        "        dates: A list of dates, either as tuples (YYYY, M, D) or 'YYYY-MM-DD' strings.\n",
        "        summary: The summary or title of the event.\n",
        "        time: The time of the event in 'HH:MM' format.\n",
        "\n",
        "    Returns:\n",
        "        An ICS file as a string.\n",
        "    \"\"\"\n",
        "    c = ics.Calendar()\n",
        "\n",
        "    # Add events for each date\n",
        "    for i in range(len(dates)):\n",
        "        event = ics.Event()\n",
        "        event.name = summary\n",
        "       # date_time = datetime.date(int(date[0]),int(date[1]),int(date[2]))\n",
        "        # המרת tuple לפורמט \"YYYY-MM-DD\" אם צריך\n",
        "        #date_str = tuple_dato_to_string(date)\n",
        "        # יצירת datetime עם הפורמט המתאים\n",
        "     #   event_datetime_str = f\"{date_str} {time}\"\n",
        "        data = date_format_create(dates, time)\n",
        "        event.begin = datetime.datetime.strptime(data[i], \"%Y-%m-%d %H:%M\")\n",
        "\n",
        "        # קביעת זמן סיום לאירוע (שעה אחת אחרי ההתחלה)\n",
        "        event.end = event.begin + datetime.timedelta(hours=1)\n",
        "        c.events.add(event)\n",
        "\n",
        "    return c.serialize()\n",
        "\n"
      ]
    },
    {
      "cell_type": "code",
      "execution_count": null,
      "metadata": {
        "id": "8BfHZwegnZiB"
      },
      "outputs": [],
      "source": [
        "# פונקציה לשאול את המשתמש ולהפיק תזכורת ליומן גוגל\n",
        "def create_google_calendar_reminder():\n",
        "\n",
        "    \"\"\"\n",
        "    מבקשת תאריך עברי, מספר שנים ושעה, ומחזירה קובץ ICS עם התזכורות המתאימות ליומן גוגל.\n",
        "    \"\"\"\n",
        "\n",
        "    # קבלת פרטי התזכורת מהמשתמש\n",
        "    hebrew_date = input(\"הכנס תאריך עברי (לדוג' יח סיוון תשפ\\\"ה): \")\n",
        "    years = int(input(\"לכמה שנים אתה רוצה את התזכורת? \"))\n",
        "    time = input(\"באיזו שעה אתה רוצה את התזכורת? (לדוג' 10:00): \")\n",
        "\n",
        "\n",
        "    # המרת התאריך לעברית לגלוגריאני\n",
        "    gregorian_dates = hebrew_to_gregorian_dates(hebrew_date, years)\n",
        "    # יצירת קובץ ICS עם התאריכים הלועזיים\n",
        "    ics_data = create_ics_file(gregorian_dates,summary=\"תזכורת יומית\", time=time)\n",
        "\n",
        "    # שמירת הקובץ\n",
        "    with open(\"reminder.ics\", \"w\") as f:\n",
        "        f.write(ics_data)\n",
        "\n",
        "    print(\"הקובץ נוצר בהצלחה בשם 'reminder.ics'. אתה יכול לייבא אותו ליומן גוגל שלך.\")"
      ]
    },
    {
      "cell_type": "code",
      "execution_count": null,
      "metadata": {
        "id": "uVnJqtE_nZiC"
      },
      "outputs": [],
      "source": []
    },
    {
      "cell_type": "code",
      "execution_count": null,
      "metadata": {
        "colab": {
          "base_uri": "https://localhost:8080/"
        },
        "id": "1_I2ps10nZiC",
        "outputId": "5ea8d951-8b54-4748-f04e-64a803fc518b"
      },
      "outputs": [
        {
          "output_type": "stream",
          "name": "stdout",
          "text": [
            "הכנס תאריך עברי (לדוג' יח סיוון תשפ\"ה): יט כסלו תשפו\n",
            "לכמה שנים אתה רוצה את התזכורת? 2\n",
            "באיזו שעה אתה רוצה את התזכורת? (לדוג' 10:00): 10:00\n",
            "gregorian_dates is ['(2025, 12, 9)', '(2026, 11, 29)', '(2027, 12, 19)']\n",
            "הקובץ נוצר בהצלחה בשם 'reminder.ics'. אתה יכול לייבא אותו ליומן גוגל שלך.\n"
          ]
        }
      ],
      "source": [
        "create_google_calendar_reminder()"
      ]
    },
    {
      "cell_type": "code",
      "source": [
        "from google.colab import files\n",
        "files.download(\"reminder.ics\")\n"
      ],
      "metadata": {
        "id": "v_gqHVVAob6X",
        "colab": {
          "base_uri": "https://localhost:8080/",
          "height": 17
        },
        "outputId": "a9ef76be-22b0-4b1e-f6c3-783a6d56e54b"
      },
      "execution_count": null,
      "outputs": [
        {
          "output_type": "display_data",
          "data": {
            "text/plain": [
              "<IPython.core.display.Javascript object>"
            ],
            "application/javascript": [
              "\n",
              "    async function download(id, filename, size) {\n",
              "      if (!google.colab.kernel.accessAllowed) {\n",
              "        return;\n",
              "      }\n",
              "      const div = document.createElement('div');\n",
              "      const label = document.createElement('label');\n",
              "      label.textContent = `Downloading \"${filename}\": `;\n",
              "      div.appendChild(label);\n",
              "      const progress = document.createElement('progress');\n",
              "      progress.max = size;\n",
              "      div.appendChild(progress);\n",
              "      document.body.appendChild(div);\n",
              "\n",
              "      const buffers = [];\n",
              "      let downloaded = 0;\n",
              "\n",
              "      const channel = await google.colab.kernel.comms.open(id);\n",
              "      // Send a message to notify the kernel that we're ready.\n",
              "      channel.send({})\n",
              "\n",
              "      for await (const message of channel.messages) {\n",
              "        // Send a message to notify the kernel that we're ready.\n",
              "        channel.send({})\n",
              "        if (message.buffers) {\n",
              "          for (const buffer of message.buffers) {\n",
              "            buffers.push(buffer);\n",
              "            downloaded += buffer.byteLength;\n",
              "            progress.value = downloaded;\n",
              "          }\n",
              "        }\n",
              "      }\n",
              "      const blob = new Blob(buffers, {type: 'application/binary'});\n",
              "      const a = document.createElement('a');\n",
              "      a.href = window.URL.createObjectURL(blob);\n",
              "      a.download = filename;\n",
              "      div.appendChild(a);\n",
              "      a.click();\n",
              "      div.remove();\n",
              "    }\n",
              "  "
            ]
          },
          "metadata": {}
        },
        {
          "output_type": "display_data",
          "data": {
            "text/plain": [
              "<IPython.core.display.Javascript object>"
            ],
            "application/javascript": [
              "download(\"download_e1d6890c-9f6c-468f-b133-2db0035bd571\", \"reminder.ics\", 561)"
            ]
          },
          "metadata": {}
        }
      ]
    },
    {
      "cell_type": "code",
      "source": [
        "!pip install --upgrade google-api-python-client google-auth-httplib2 google-auth-oauthlib icalendar\n"
      ],
      "metadata": {
        "colab": {
          "base_uri": "https://localhost:8080/"
        },
        "id": "2AEZnIL7x16l",
        "outputId": "4b9a3d53-f331-4ee4-d935-3ae5ea626403"
      },
      "execution_count": null,
      "outputs": [
        {
          "output_type": "stream",
          "name": "stdout",
          "text": [
            "Requirement already satisfied: google-api-python-client in /usr/local/lib/python3.10/dist-packages (2.155.0)\n",
            "Collecting google-api-python-client\n",
            "  Downloading google_api_python_client-2.156.0-py2.py3-none-any.whl.metadata (6.7 kB)\n",
            "Requirement already satisfied: google-auth-httplib2 in /usr/local/lib/python3.10/dist-packages (0.2.0)\n",
            "Requirement already satisfied: google-auth-oauthlib in /usr/local/lib/python3.10/dist-packages (1.2.1)\n",
            "Collecting icalendar\n",
            "  Downloading icalendar-6.1.0-py3-none-any.whl.metadata (10 kB)\n",
            "Requirement already satisfied: httplib2<1.dev0,>=0.19.0 in /usr/local/lib/python3.10/dist-packages (from google-api-python-client) (0.22.0)\n",
            "Requirement already satisfied: google-auth!=2.24.0,!=2.25.0,<3.0.0.dev0,>=1.32.0 in /usr/local/lib/python3.10/dist-packages (from google-api-python-client) (2.27.0)\n",
            "Requirement already satisfied: google-api-core!=2.0.*,!=2.1.*,!=2.2.*,!=2.3.0,<3.0.0.dev0,>=1.31.5 in /usr/local/lib/python3.10/dist-packages (from google-api-python-client) (2.19.2)\n",
            "Requirement already satisfied: uritemplate<5,>=3.0.1 in /usr/local/lib/python3.10/dist-packages (from google-api-python-client) (4.1.1)\n",
            "Requirement already satisfied: requests-oauthlib>=0.7.0 in /usr/local/lib/python3.10/dist-packages (from google-auth-oauthlib) (1.3.1)\n",
            "Requirement already satisfied: python-dateutil in /usr/local/lib/python3.10/dist-packages (from icalendar) (2.8.2)\n",
            "Requirement already satisfied: tzdata in /usr/local/lib/python3.10/dist-packages (from icalendar) (2024.2)\n",
            "Requirement already satisfied: googleapis-common-protos<2.0.dev0,>=1.56.2 in /usr/local/lib/python3.10/dist-packages (from google-api-core!=2.0.*,!=2.1.*,!=2.2.*,!=2.3.0,<3.0.0.dev0,>=1.31.5->google-api-python-client) (1.66.0)\n",
            "Requirement already satisfied: protobuf!=3.20.0,!=3.20.1,!=4.21.0,!=4.21.1,!=4.21.2,!=4.21.3,!=4.21.4,!=4.21.5,<6.0.0.dev0,>=3.19.5 in /usr/local/lib/python3.10/dist-packages (from google-api-core!=2.0.*,!=2.1.*,!=2.2.*,!=2.3.0,<3.0.0.dev0,>=1.31.5->google-api-python-client) (4.25.5)\n",
            "Requirement already satisfied: proto-plus<2.0.0dev,>=1.22.3 in /usr/local/lib/python3.10/dist-packages (from google-api-core!=2.0.*,!=2.1.*,!=2.2.*,!=2.3.0,<3.0.0.dev0,>=1.31.5->google-api-python-client) (1.25.0)\n",
            "Requirement already satisfied: requests<3.0.0.dev0,>=2.18.0 in /usr/local/lib/python3.10/dist-packages (from google-api-core!=2.0.*,!=2.1.*,!=2.2.*,!=2.3.0,<3.0.0.dev0,>=1.31.5->google-api-python-client) (2.32.3)\n",
            "Requirement already satisfied: cachetools<6.0,>=2.0.0 in /usr/local/lib/python3.10/dist-packages (from google-auth!=2.24.0,!=2.25.0,<3.0.0.dev0,>=1.32.0->google-api-python-client) (5.5.0)\n",
            "Requirement already satisfied: pyasn1-modules>=0.2.1 in /usr/local/lib/python3.10/dist-packages (from google-auth!=2.24.0,!=2.25.0,<3.0.0.dev0,>=1.32.0->google-api-python-client) (0.4.1)\n",
            "Requirement already satisfied: rsa<5,>=3.1.4 in /usr/local/lib/python3.10/dist-packages (from google-auth!=2.24.0,!=2.25.0,<3.0.0.dev0,>=1.32.0->google-api-python-client) (4.9)\n",
            "Requirement already satisfied: pyparsing!=3.0.0,!=3.0.1,!=3.0.2,!=3.0.3,<4,>=2.4.2 in /usr/local/lib/python3.10/dist-packages (from httplib2<1.dev0,>=0.19.0->google-api-python-client) (3.2.0)\n",
            "Requirement already satisfied: oauthlib>=3.0.0 in /usr/local/lib/python3.10/dist-packages (from requests-oauthlib>=0.7.0->google-auth-oauthlib) (3.2.2)\n",
            "Requirement already satisfied: six>=1.5 in /usr/local/lib/python3.10/dist-packages (from python-dateutil->icalendar) (1.17.0)\n",
            "Requirement already satisfied: pyasn1<0.7.0,>=0.4.6 in /usr/local/lib/python3.10/dist-packages (from pyasn1-modules>=0.2.1->google-auth!=2.24.0,!=2.25.0,<3.0.0.dev0,>=1.32.0->google-api-python-client) (0.6.1)\n",
            "Requirement already satisfied: charset-normalizer<4,>=2 in /usr/local/lib/python3.10/dist-packages (from requests<3.0.0.dev0,>=2.18.0->google-api-core!=2.0.*,!=2.1.*,!=2.2.*,!=2.3.0,<3.0.0.dev0,>=1.31.5->google-api-python-client) (3.4.0)\n",
            "Requirement already satisfied: idna<4,>=2.5 in /usr/local/lib/python3.10/dist-packages (from requests<3.0.0.dev0,>=2.18.0->google-api-core!=2.0.*,!=2.1.*,!=2.2.*,!=2.3.0,<3.0.0.dev0,>=1.31.5->google-api-python-client) (3.10)\n",
            "Requirement already satisfied: urllib3<3,>=1.21.1 in /usr/local/lib/python3.10/dist-packages (from requests<3.0.0.dev0,>=2.18.0->google-api-core!=2.0.*,!=2.1.*,!=2.2.*,!=2.3.0,<3.0.0.dev0,>=1.31.5->google-api-python-client) (2.2.3)\n",
            "Requirement already satisfied: certifi>=2017.4.17 in /usr/local/lib/python3.10/dist-packages (from requests<3.0.0.dev0,>=2.18.0->google-api-core!=2.0.*,!=2.1.*,!=2.2.*,!=2.3.0,<3.0.0.dev0,>=1.31.5->google-api-python-client) (2024.12.14)\n",
            "Downloading google_api_python_client-2.156.0-py2.py3-none-any.whl (12.7 MB)\n",
            "\u001b[2K   \u001b[90m━━━━━━━━━━━━━━━━━━━━━━━━━━━━━━━━━━━━━━━━\u001b[0m \u001b[32m12.7/12.7 MB\u001b[0m \u001b[31m57.4 MB/s\u001b[0m eta \u001b[36m0:00:00\u001b[0m\n",
            "\u001b[?25hDownloading icalendar-6.1.0-py3-none-any.whl (198 kB)\n",
            "\u001b[2K   \u001b[90m━━━━━━━━━━━━━━━━━━━━━━━━━━━━━━━━━━━━━━━━\u001b[0m \u001b[32m198.6/198.6 kB\u001b[0m \u001b[31m13.8 MB/s\u001b[0m eta \u001b[36m0:00:00\u001b[0m\n",
            "\u001b[?25hInstalling collected packages: icalendar, google-api-python-client\n",
            "  Attempting uninstall: google-api-python-client\n",
            "    Found existing installation: google-api-python-client 2.155.0\n",
            "    Uninstalling google-api-python-client-2.155.0:\n",
            "      Successfully uninstalled google-api-python-client-2.155.0\n",
            "Successfully installed google-api-python-client-2.156.0 icalendar-6.1.0\n"
          ]
        }
      ]
    },
    {
      "cell_type": "code",
      "source": [
        "import os\n",
        "from google.colab import auth\n",
        "from googleapiclient.discovery import build\n",
        "from oauth2client import file, client\n",
        "from icalendar import Calendar\n",
        "import logging\n",
        "\n",
        "# הגדרת רמת הלוגינג\n",
        "logging.basicConfig(level=logging.INFO)\n",
        "\n",
        "# פונקציה לאימות\n",
        "def authenticate_google_calendar():\n",
        "    SCOPES = ['https://www.googleapis.com/auth/calendar.events']\n",
        "\n",
        "    if 'COLAB_GPU' in os.environ:  # אם זה הריצה ב-Colab\n",
        "        auth.authenticate_user()\n",
        "        creds = None\n",
        "    else:  # אם זה במחשב המקומי\n",
        "        store = file.Storage('token.json')\n",
        "        creds = store.get()\n",
        "        if not creds or creds.invalid:\n",
        "            flow = client.flow_from_clientsecrets('client_secret.json', SCOPES)\n",
        "            creds = client.tools.run_flow(flow, store)\n",
        "\n",
        "    service = build('calendar', 'v3', credentials=creds)\n",
        "    return service\n",
        "\n",
        "# פונקציה להוספת אירוע ליומן Google\n",
        "def create_event(service, event):\n",
        "    try:\n",
        "        event = service.events().insert(calendarId='primary', body=event).execute()\n",
        "        logging.info(f\"Event created: {event.get('htmlLink')}\")\n",
        "    except Exception as e:\n",
        "        logging.error(f\"Error creating event: {e}\")\n",
        "\n",
        "# פונקציה לקריאת קובץ ICS והוספת האירועים ליומן Google\n",
        "def import_ics_to_google_calendar(service, ics_file):\n",
        "    with open(ics_file, 'r') as f:\n",
        "        try:\n",
        "            calendar = Calendar.from_ical(f.read())\n",
        "            for component in calendar.walk():\n",
        "                if component.name == \"VEVENT\":\n",
        "                    # בניית האירוע עבור Google Calendar\n",
        "                    event = {\n",
        "                        'summary': str(component.get('summary')),\n",
        "                        # הוסף שדות נוספים לפי הצורך\n",
        "                        'start': {\n",
        "                            'dateTime': component.get('dtstart').dt.isoformat(),\n",
        "                            'timeZone': 'Asia/Jerusalem',\n",
        "                        },\n",
        "                        'end': {\n",
        "                            'dateTime': component.get('dtend').dt.isoformat(),\n",
        "                            'timeZone': 'Asia/Jerusalem',\n",
        "                        },\n",
        "                    }\n",
        "                    create_event(service, event)\n",
        "        except Exception as e:\n",
        "            logging.error(f\"Error parsing ICS file: {e}\")\n",
        "\n",
        "# שלב 1: התחברות ל-API של Google Calendar\n",
        "service = authenticate_google_calendar()\n",
        "\n",
        "# שלב 2: קריאת קובץ ICS והוספת האירועים\n",
        "ics_file_path = 'reminder.ics'  # אם בקולאב, תוכל להעלות את הקובץ כאן או במחשב המקומי\n",
        "import_ics_to_google_calendar(service, ics_file_path)\n"
      ],
      "metadata": {
        "colab": {
          "base_uri": "https://localhost:8080/"
        },
        "id": "wVlNpkn6x9Lx",
        "outputId": "bcfafa87-8200-4bdd-d7ea-3725f98a84ee"
      },
      "execution_count": null,
      "outputs": [
        {
          "output_type": "stream",
          "name": "stderr",
          "text": [
            "WARNING:googleapiclient.http:Encountered 403 Forbidden with reason \"insufficientPermissions\"\n",
            "ERROR:root:Error creating event: <HttpError 403 when requesting https://www.googleapis.com/calendar/v3/calendars/primary/events?alt=json returned \"Request had insufficient authentication scopes.\". Details: \"[{'message': 'Insufficient Permission', 'domain': 'global', 'reason': 'insufficientPermissions'}]\">\n",
            "WARNING:googleapiclient.http:Encountered 403 Forbidden with reason \"insufficientPermissions\"\n",
            "ERROR:root:Error creating event: <HttpError 403 when requesting https://www.googleapis.com/calendar/v3/calendars/primary/events?alt=json returned \"Request had insufficient authentication scopes.\". Details: \"[{'message': 'Insufficient Permission', 'domain': 'global', 'reason': 'insufficientPermissions'}]\">\n",
            "WARNING:googleapiclient.http:Encountered 403 Forbidden with reason \"insufficientPermissions\"\n",
            "ERROR:root:Error creating event: <HttpError 403 when requesting https://www.googleapis.com/calendar/v3/calendars/primary/events?alt=json returned \"Request had insufficient authentication scopes.\". Details: \"[{'message': 'Insufficient Permission', 'domain': 'global', 'reason': 'insufficientPermissions'}]\">\n"
          ]
        }
      ]
    },
    {
      "cell_type": "code",
      "source": [
        "pip install --upgrade google-api-python-client google-auth-httplib2 google-auth-oauthlib"
      ],
      "metadata": {
        "id": "pWmIbPV764FP",
        "outputId": "1dbc441d-5750-403e-cb7d-e6680784c101",
        "colab": {
          "base_uri": "https://localhost:8080/"
        }
      },
      "execution_count": null,
      "outputs": [
        {
          "output_type": "stream",
          "name": "stdout",
          "text": [
            "Requirement already satisfied: google-api-python-client in /usr/local/lib/python3.10/dist-packages (2.156.0)\n",
            "Requirement already satisfied: google-auth-httplib2 in /usr/local/lib/python3.10/dist-packages (0.2.0)\n",
            "Requirement already satisfied: google-auth-oauthlib in /usr/local/lib/python3.10/dist-packages (1.2.1)\n",
            "Requirement already satisfied: httplib2<1.dev0,>=0.19.0 in /usr/local/lib/python3.10/dist-packages (from google-api-python-client) (0.22.0)\n",
            "Requirement already satisfied: google-auth!=2.24.0,!=2.25.0,<3.0.0.dev0,>=1.32.0 in /usr/local/lib/python3.10/dist-packages (from google-api-python-client) (2.27.0)\n",
            "Requirement already satisfied: google-api-core!=2.0.*,!=2.1.*,!=2.2.*,!=2.3.0,<3.0.0.dev0,>=1.31.5 in /usr/local/lib/python3.10/dist-packages (from google-api-python-client) (2.19.2)\n",
            "Requirement already satisfied: uritemplate<5,>=3.0.1 in /usr/local/lib/python3.10/dist-packages (from google-api-python-client) (4.1.1)\n",
            "Requirement already satisfied: requests-oauthlib>=0.7.0 in /usr/local/lib/python3.10/dist-packages (from google-auth-oauthlib) (1.3.1)\n",
            "Requirement already satisfied: googleapis-common-protos<2.0.dev0,>=1.56.2 in /usr/local/lib/python3.10/dist-packages (from google-api-core!=2.0.*,!=2.1.*,!=2.2.*,!=2.3.0,<3.0.0.dev0,>=1.31.5->google-api-python-client) (1.66.0)\n",
            "Requirement already satisfied: protobuf!=3.20.0,!=3.20.1,!=4.21.0,!=4.21.1,!=4.21.2,!=4.21.3,!=4.21.4,!=4.21.5,<6.0.0.dev0,>=3.19.5 in /usr/local/lib/python3.10/dist-packages (from google-api-core!=2.0.*,!=2.1.*,!=2.2.*,!=2.3.0,<3.0.0.dev0,>=1.31.5->google-api-python-client) (4.25.5)\n",
            "Requirement already satisfied: proto-plus<2.0.0dev,>=1.22.3 in /usr/local/lib/python3.10/dist-packages (from google-api-core!=2.0.*,!=2.1.*,!=2.2.*,!=2.3.0,<3.0.0.dev0,>=1.31.5->google-api-python-client) (1.25.0)\n",
            "Requirement already satisfied: requests<3.0.0.dev0,>=2.18.0 in /usr/local/lib/python3.10/dist-packages (from google-api-core!=2.0.*,!=2.1.*,!=2.2.*,!=2.3.0,<3.0.0.dev0,>=1.31.5->google-api-python-client) (2.32.3)\n",
            "Requirement already satisfied: cachetools<6.0,>=2.0.0 in /usr/local/lib/python3.10/dist-packages (from google-auth!=2.24.0,!=2.25.0,<3.0.0.dev0,>=1.32.0->google-api-python-client) (5.5.0)\n",
            "Requirement already satisfied: pyasn1-modules>=0.2.1 in /usr/local/lib/python3.10/dist-packages (from google-auth!=2.24.0,!=2.25.0,<3.0.0.dev0,>=1.32.0->google-api-python-client) (0.4.1)\n",
            "Requirement already satisfied: rsa<5,>=3.1.4 in /usr/local/lib/python3.10/dist-packages (from google-auth!=2.24.0,!=2.25.0,<3.0.0.dev0,>=1.32.0->google-api-python-client) (4.9)\n",
            "Requirement already satisfied: pyparsing!=3.0.0,!=3.0.1,!=3.0.2,!=3.0.3,<4,>=2.4.2 in /usr/local/lib/python3.10/dist-packages (from httplib2<1.dev0,>=0.19.0->google-api-python-client) (3.2.0)\n",
            "Requirement already satisfied: oauthlib>=3.0.0 in /usr/local/lib/python3.10/dist-packages (from requests-oauthlib>=0.7.0->google-auth-oauthlib) (3.2.2)\n",
            "Requirement already satisfied: pyasn1<0.7.0,>=0.4.6 in /usr/local/lib/python3.10/dist-packages (from pyasn1-modules>=0.2.1->google-auth!=2.24.0,!=2.25.0,<3.0.0.dev0,>=1.32.0->google-api-python-client) (0.6.1)\n",
            "Requirement already satisfied: charset-normalizer<4,>=2 in /usr/local/lib/python3.10/dist-packages (from requests<3.0.0.dev0,>=2.18.0->google-api-core!=2.0.*,!=2.1.*,!=2.2.*,!=2.3.0,<3.0.0.dev0,>=1.31.5->google-api-python-client) (3.4.0)\n",
            "Requirement already satisfied: idna<4,>=2.5 in /usr/local/lib/python3.10/dist-packages (from requests<3.0.0.dev0,>=2.18.0->google-api-core!=2.0.*,!=2.1.*,!=2.2.*,!=2.3.0,<3.0.0.dev0,>=1.31.5->google-api-python-client) (3.10)\n",
            "Requirement already satisfied: urllib3<3,>=1.21.1 in /usr/local/lib/python3.10/dist-packages (from requests<3.0.0.dev0,>=2.18.0->google-api-core!=2.0.*,!=2.1.*,!=2.2.*,!=2.3.0,<3.0.0.dev0,>=1.31.5->google-api-python-client) (2.2.3)\n",
            "Requirement already satisfied: certifi>=2017.4.17 in /usr/local/lib/python3.10/dist-packages (from requests<3.0.0.dev0,>=2.18.0->google-api-core!=2.0.*,!=2.1.*,!=2.2.*,!=2.3.0,<3.0.0.dev0,>=1.31.5->google-api-python-client) (2024.12.14)\n"
          ]
        }
      ]
    },
    {
      "cell_type": "code",
      "source": [],
      "metadata": {
        "id": "XFKtzXSu69fA"
      },
      "execution_count": null,
      "outputs": []
    }
  ],
  "metadata": {
    "kernelspec": {
      "display_name": "Python 3",
      "language": "python",
      "name": "python3"
    },
    "language_info": {
      "codemirror_mode": {
        "name": "ipython",
        "version": 3
      },
      "file_extension": ".py",
      "mimetype": "text/x-python",
      "name": "python",
      "nbconvert_exporter": "python",
      "pygments_lexer": "ipython3",
      "version": "3.13.1"
    },
    "colab": {
      "provenance": [],
      "include_colab_link": true
    }
  },
  "nbformat": 4,
  "nbformat_minor": 0
}